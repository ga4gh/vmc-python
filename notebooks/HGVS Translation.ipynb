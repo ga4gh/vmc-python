{
 "cells": [
  {
   "cell_type": "markdown",
   "metadata": {},
   "source": [
    "This notebook demonstrates the mechanics of translating an HGVS expression to a VR representation for educational purposes. Users who wish to translate HGVS or other expressions routinely should use ga4gh.vrs.extras.translator."
   ]
  },
  {
   "cell_type": "code",
   "execution_count": 41,
   "metadata": {},
   "outputs": [],
   "source": [
    "from ga4gh.core import ga4gh_identify\n",
    "from ga4gh.vrs import models\n",
    "from ga4gh.vrs.dataproxy import SeqRepoRESTDataProxy\n",
    "from ga4gh.vrs.extras.translator import Translator\n",
    "from IPython.display import HTML, display"
   ]
  },
  {
   "cell_type": "markdown",
   "metadata": {},
   "source": [
    "## Translate an expression manually\n",
    "\n",
    "First, we'll translate NC_000013.11:g.32936732G>C to VR manually to see the evolution of the process. "
   ]
  },
  {
   "cell_type": "code",
   "execution_count": 42,
   "metadata": {},
   "outputs": [],
   "source": [
    "# We'll translate this expression to VR:\n",
    "hgvs_expr = \"\""
   ]
  },
  {
   "cell_type": "code",
   "execution_count": 43,
   "metadata": {
    "scrolled": true
   },
   "outputs": [
    {
     "data": {
      "text/plain": [
       "{'location': {'interval': {'end': 32936732,\n",
       "   'start': 32936731,\n",
       "   'type': 'SimpleInterval'},\n",
       "  'sequence_id': 'refseq:NC_000013.11',\n",
       "  'type': 'SequenceLocation'},\n",
       " 'state': {'sequence': 'C', 'type': 'SequenceState'},\n",
       " 'type': 'Allele'}"
      ]
     },
     "execution_count": 43,
     "metadata": {},
     "output_type": "execute_result"
    }
   ],
   "source": [
    "allele = models.Allele(\n",
    "    location = models.SequenceLocation(\n",
    "        sequence_id = \"refseq:NC_000013.11\",\n",
    "        interval = models.SimpleInterval(\n",
    "            start = 32936731,\n",
    "            end = 32936732\n",
    "        )\n",
    "    ),\n",
    "    state = models.SequenceState(\n",
    "        sequence = \"C\"\n",
    "    )\n",
    ")\n",
    "\n",
    "allele.as_dict()"
   ]
  },
  {
   "cell_type": "markdown",
   "metadata": {},
   "source": [
    "<div class=\"alert alert-success\">\n",
    "    👍 The above message is a valid VR message. VR requires that\n",
    "    sequence identifiers use CURIE syntax with a namespace from identifiers.org and\n",
    "    that locations are specified with interbase coordinates. Using sequence digests\n",
    "    is NOT required.\n",
    "    </div>"
   ]
  },
  {
   "cell_type": "markdown",
   "metadata": {},
   "source": [
    "## Replace the RefSeq sequence with a GA4GH sequence id\n",
    "\n",
    "In order to use the computed identifier mechanism in VR, the sequence_id MUST use\n",
    "GA4GH computed sequence identifiers. \n",
    "\n",
    "Implementations choose how to provide sequence and sequence accession services\n",
    "\n",
    "The following uses the [seqrepo REST interface](https://github.com/biocommons/seqrepo-rest-service/). See the vr-python docker instructions for a simple way to set this up.\n"
   ]
  },
  {
   "cell_type": "code",
   "execution_count": 44,
   "metadata": {},
   "outputs": [
    {
     "data": {
      "text/plain": [
       "'ga4gh:SQ._0wi-qoDrvram155UmcSC-zA5ZK4fpLT'"
      ]
     },
     "execution_count": 44,
     "metadata": {},
     "output_type": "execute_result"
    }
   ],
   "source": [
    "seqrepo_rest_service_url = \"http://localhost:5000/seqrepo\"\n",
    "dp = SeqRepoRESTDataProxy(base_url=seqrepo_rest_service_url)\n",
    "\n",
    "# In general, one identifier may be related to many others in another namespace\n",
    "# Therefore, translate_sequence_identifier() returns a list.\n",
    "# Because there will be only 1 ga4gh sequence digest, we choose the first\n",
    "# and then replace the sequence id in allele.location.\n",
    "\n",
    "refseq_ir = str(allele.location.sequence_id)\n",
    "ga4gh_ir = dp.translate_sequence_identifier(refseq_ir, \"ga4gh\")[0]\n",
    "ga4gh_ir"
   ]
  },
  {
   "cell_type": "code",
   "execution_count": 45,
   "metadata": {},
   "outputs": [
    {
     "data": {
      "text/plain": [
       "{'location': {'interval': {'end': 32936732,\n",
       "   'start': 32936731,\n",
       "   'type': 'SimpleInterval'},\n",
       "  'sequence_id': 'ga4gh:SQ._0wi-qoDrvram155UmcSC-zA5ZK4fpLT',\n",
       "  'type': 'SequenceLocation'},\n",
       " 'state': {'sequence': 'C', 'type': 'SequenceState'},\n",
       " 'type': 'Allele'}"
      ]
     },
     "execution_count": 45,
     "metadata": {},
     "output_type": "execute_result"
    }
   ],
   "source": [
    "# Now, simply replace the identifier with the GA4GH identifier\n",
    "allele.location.sequence_id = ga4gh_ir\n",
    "allele.as_dict()"
   ]
  },
  {
   "cell_type": "markdown",
   "metadata": {},
   "source": [
    "## Computed Identifiers (optional)\n",
    "\n",
    "ga4gh_identify() serializes the object and computes the identifier\n",
    "(See ga4gh_serialize and ga4gh_digest for details)\n"
   ]
  },
  {
   "cell_type": "code",
   "execution_count": 46,
   "metadata": {},
   "outputs": [
    {
     "data": {
      "text/plain": [
       "{'_id': 'ga4gh:VA.n9ax-9x6gOC0OEt73VMYqCBfqfxG1XUH',\n",
       " 'location': {'interval': {'end': 32936732,\n",
       "   'start': 32936731,\n",
       "   'type': 'SimpleInterval'},\n",
       "  'sequence_id': 'ga4gh:SQ._0wi-qoDrvram155UmcSC-zA5ZK4fpLT',\n",
       "  'type': 'SequenceLocation'},\n",
       " 'state': {'sequence': 'C', 'type': 'SequenceState'},\n",
       " 'type': 'Allele'}"
      ]
     },
     "execution_count": 46,
     "metadata": {},
     "output_type": "execute_result"
    }
   ],
   "source": [
    "allele._id = ga4gh_identify(allele)\n",
    "allele.as_dict()"
   ]
  },
  {
   "cell_type": "markdown",
   "metadata": {},
   "source": [
    "# Using ga4gh.vrs.extras.translator\n",
    "\n",
    "The VR Translator imports HGVS, SPDI, Beacon, and VCF formats, and appropriate handles more complex cases than shown above.\n",
    "\n",
    "By default, the translator translates HGVS reference sequences to GA4GH sequence digest identifiers and adds identifiers to the resulting Allele objects."
   ]
  },
  {
   "cell_type": "code",
   "execution_count": 47,
   "metadata": {},
   "outputs": [],
   "source": [
    "tlr = Translator(data_proxy=dp)"
   ]
  },
  {
   "cell_type": "markdown",
   "metadata": {},
   "source": [
    "### HGVS → VR"
   ]
  },
  {
   "cell_type": "code",
   "execution_count": 48,
   "metadata": {
    "scrolled": true
   },
   "outputs": [
    {
     "data": {
      "text/plain": [
       "{'_id': 'ga4gh:VA.gvCtR5KLdng5G31DwajXiH6S3Gjhm5fh',\n",
       " 'location': {'interval': {'end': 32936732,\n",
       "   'start': 32936731,\n",
       "   'type': 'SimpleInterval'},\n",
       "  'sequence_id': 'ga4gh:SQ._0wi-qoDrvram155UmcSC-zA5ZK4fpLT',\n",
       "  'type': 'SequenceLocation'},\n",
       " 'state': {'sequence': 'G', 'type': 'SequenceState'},\n",
       " 'type': 'Allele'}"
      ]
     },
     "execution_count": 48,
     "metadata": {},
     "output_type": "execute_result"
    }
   ],
   "source": [
    "hgvs_expr1 = \"NC_000013.11:g.32936732C>G\"\n",
    "allele1 = tlr.translate_from(hgvs_expr1,'hgvs')\n",
    "allele1.as_dict()"
   ]
  },
  {
   "cell_type": "markdown",
   "metadata": {},
   "source": [
    "### VR → HGVS\n",
    "\n",
    "Because a GA4GH sequence identifier may have many aliases, each VR Allele\n",
    "may be expressed as multiple HGVS expressions. For this reason, `translate_to(allele, \"hgvs\")` returns\n",
    "a *list* of HGVS expressions, optionally limited to aliases from a specified namespace."
   ]
  },
  {
   "cell_type": "code",
   "execution_count": 64,
   "metadata": {},
   "outputs": [
    {
     "data": {
      "text/plain": [
       "['NC_000013.11:g.32936732=']"
      ]
     },
     "execution_count": 64,
     "metadata": {},
     "output_type": "execute_result"
    }
   ],
   "source": [
    "tlr.translate_to(allele, \"hgvs\")"
   ]
  },
  {
   "cell_type": "code",
   "execution_count": 65,
   "metadata": {},
   "outputs": [
    {
     "data": {
      "text/plain": [
       "['NC_000013.11:g.32936732=']"
      ]
     },
     "execution_count": 65,
     "metadata": {},
     "output_type": "execute_result"
    }
   ],
   "source": [
    "# Most commonly, we'll want expressions from a well-known authority like RefSeq\n",
    "# Again, there might in general be multiple `refseq` expressions\n",
    "tlr._to_hgvs(allele, \"refseq\")"
   ]
  },
  {
   "cell_type": "code",
   "execution_count": 66,
   "metadata": {
    "scrolled": true
   },
   "outputs": [
    {
     "data": {
      "text/plain": [
       "['13:g.32936732=', 'chr13:g.32936732=']"
      ]
     },
     "execution_count": 66,
     "metadata": {},
     "output_type": "execute_result"
    }
   ],
   "source": [
    "# GRC namespaces is handled as a special case: Because aliases are shared \n",
    "# between GRCh releases, they're shown only on request\n",
    "tlr._to_hgvs(allele, \"GRCh38\")"
   ]
  },
  {
   "cell_type": "code",
   "execution_count": 67,
   "metadata": {},
   "outputs": [],
   "source": [
    "import json\n",
    "import yaml\n",
    "def filter_dict(d):\n",
    "    try:\n",
    "        return {k: filter_dict(d[k])\n",
    "                for k in d\n",
    "                if not k.startswith(\"_\")}\n",
    "    except:\n",
    "        return d\n",
    "def as_str(s):\n",
    "    return s if isinstance(s, str) else s.decode()\n",
    "def dj(o):\n",
    "    \"\"\"print VR object as pretty formated json\"\"\"\n",
    "    print(json.dumps(filter_dict(o.as_dict()), indent=2, sort_keys=True))\n",
    "def dy(fns, o):\n",
    "    \"\"\"execute function f in fns on o, returning a yaml block representing the test\"\"\"\n",
    "    r = {\n",
    "        \"in\": o.as_dict(),\n",
    "        \"out\": {f.__name__: as_str(f(o)) for f in fns}\n",
    "    }\n",
    "    print(yaml.dump(filter_dict({o.type._value: {\"-\": r}})).replace(\"'-':\",\"-\"))"
   ]
  },
  {
   "cell_type": "code",
   "execution_count": 78,
   "metadata": {},
   "outputs": [
    {
     "data": {
      "text/html": [
       "<table>\n",
       "<tbody>\n",
       "<tr><td>check</td><td>hgvs_orig                              </td><td>sequence_id                              </td><td>hgvs_final                             </td></tr>\n",
       "<tr><td>✔    </td><td>NC_000013.11:g.32936732_32936733del    </td><td>ga4gh:VA.yOoxi7-uUnJyn4QkQ23h6RJuT4Zqarow</td><td>NC_000013.11:g.32936732_32936733del    </td></tr>\n",
       "<tr><td>✔    </td><td>NC_000013.11:g.32936732_32936737del    </td><td>ga4gh:VA.nJqbt_W7xV07irZ_F5mtsh5e5dkq9dBW</td><td>NC_000013.11:g.32936732_32936737del    </td></tr>\n",
       "<tr><td>✔    </td><td>NC_000013.11:g.32936732_32936733insC   </td><td>ga4gh:VA.JEUN0DVx2gySgRhNDqlKYqehZxgKKlsY</td><td>NC_000013.11:g.32936732_32936733insC   </td></tr>\n",
       "<tr><td>✔    </td><td>NC_000013.11:g.32936732_32936733delinsC</td><td>ga4gh:VA.cT0SNJb9bxB_KIhu2s6j37ZbTWaU4ozJ</td><td>NC_000013.11:g.32936732_32936733delinsC</td></tr>\n",
       "<tr><td>✔    </td><td>NC_000013.11:g.32936732_32936735delinsC</td><td>ga4gh:VA.6ZgsF2lSBqMKcGL-xV-SUSrwN_UQTndJ</td><td>NC_000013.11:g.32936732_32936735delinsC</td></tr>\n",
       "<tr><td>✔    </td><td>NC_000013.11:g.32936732C&gt;G             </td><td>ga4gh:VA.gvCtR5KLdng5G31DwajXiH6S3Gjhm5fh</td><td>NC_000013.11:g.32936732C&gt;G             </td></tr>\n",
       "</tbody>\n",
       "</table>"
      ],
      "text/plain": [
       "<IPython.core.display.HTML object>"
      ]
     },
     "metadata": {},
     "output_type": "display_data"
    }
   ],
   "source": [
    "import tabulate\n",
    "\n",
    "# todo: this example should get changed to use normalized hgvs_g as input.\n",
    "tlr.normalize = False\n",
    "\n",
    "# Round-trip test: HGVS → VR Allele → HGVS[]\n",
    "header = \"check hgvs_orig sequence_id hgvs_final\".split()\n",
    "table = [header]\n",
    "for hgvs_expr in (\n",
    "    \"NC_000013.11:g.32936732_32936733del\",\n",
    "    \"NC_000013.11:g.32936732_32936737del\",\n",
    "    \"NC_000013.11:g.32936732_32936733insC\",\n",
    "    \"NC_000013.11:g.32936732_32936733delinsC\",\n",
    "    \"NC_000013.11:g.32936732_32936735delinsC\",\n",
    "    \"NC_000013.11:g.32936732C>G\",\n",
    "):\n",
    "    a = tlr.translate_from(hgvs_expr, \"hgvs\")\n",
    "    he = tlr.translate_to(a, \"hgvs\")\n",
    "    chk = \"✔\" if hgvs_expr in he else \"✘\"\n",
    "    #print(f\"{chk} {hgvs_expr}\\n  → {ga4gh_identify(a)}\\n  → {he}\")\n",
    "    row = [chk, hgvs_expr, ga4gh_identify(a), he[0] ]\n",
    "    table += [row]\n",
    "display(HTML(tabulate.tabulate(table, tablefmt='html')))"
   ]
  },
  {
   "cell_type": "code",
   "execution_count": null,
   "metadata": {},
   "outputs": [],
   "source": []
  }
 ],
 "metadata": {
  "kernelspec": {
   "display_name": "Python 3",
   "language": "python",
   "name": "python3"
  },
  "language_info": {
   "codemirror_mode": {
    "name": "ipython",
    "version": 3
   },
   "file_extension": ".py",
   "mimetype": "text/x-python",
   "name": "python",
   "nbconvert_exporter": "python",
   "pygments_lexer": "ipython3",
   "version": "3.8.5"
  }
 },
 "nbformat": 4,
 "nbformat_minor": 2
}
