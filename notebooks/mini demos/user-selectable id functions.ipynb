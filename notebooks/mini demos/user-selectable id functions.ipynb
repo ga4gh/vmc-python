{
 "cells": [
  {
   "cell_type": "code",
   "execution_count": 1,
   "metadata": {},
   "outputs": [],
   "source": [
    "import vmc\n",
    "from vmc.extra.bundlemanager import BundleManager"
   ]
  },
  {
   "cell_type": "code",
   "execution_count": 2,
   "metadata": {},
   "outputs": [],
   "source": [
    "apoe_alleles = {\n",
    "    'rs7412C': 'NC_000019.10:g.44908822=',\n",
    "     'rs7412T': 'NC_000019.10:g.44908822C>T',\n",
    "     'rs429358T': 'NC_000019.10:g.44908684=',\n",
    "     'rs429358C': 'NC_000019.10:g.44908684T>C'\n",
    "}\n",
    "\n",
    "apoe_haplotypes = {\n",
    "    \"ε1\": [\"rs429358C\", \"rs7412T\"],\n",
    "    \"ε2\": [\"rs429358T\", \"rs7412T\"],\n",
    "    \"ε3\": [\"rs429358T\", \"rs7412C\"],\n",
    "    \"ε4\": [\"rs429358C\", \"rs7412C\"],\n",
    "}\n",
    "\n",
    "apoe_genotypes = {\n",
    "    \"ε1/ε4\": [\"ε1\", \"ε4\"],\n",
    "    \"ε3/ε4\": [\"ε3\", \"ε4\"],\n",
    "    \"ε4/ε1\": [\"ε4\", \"ε1\"],\n",
    "}"
   ]
  },
  {
   "cell_type": "code",
   "execution_count": 3,
   "metadata": {},
   "outputs": [],
   "source": [
    "def make_bundle(id_function):\n",
    "    # create bundle; data via globals above\n",
    "    bm = BundleManager(id_function=id_function)\n",
    "    for a in apoe_alleles.values():\n",
    "        bm.add_hgvs_allele(a)\n",
    "    return bm"
   ]
  },
  {
   "cell_type": "code",
   "execution_count": 4,
   "metadata": {},
   "outputs": [
    {
     "data": {
      "text/plain": [
       "{'alleles': {'VMC:GA__8rLiy7YkQDNy-t536RpVFGxIDiWLr6J': {'id': 'VMC:GA__8rLiy7YkQDNy-t536RpVFGxIDiWLr6J',\n",
       "   'location_id': 'VMC:GL_heG_PQopyF0Vgi4zH6yiLf3diyfyJcV3',\n",
       "   'state': 'C'},\n",
       "  'VMC:GA_BqFKgQ350SUi4-uaGCvMM1ag7z0dNmvC': {'id': 'VMC:GA_BqFKgQ350SUi4-uaGCvMM1ag7z0dNmvC',\n",
       "   'location_id': 'VMC:GL_heG_PQopyF0Vgi4zH6yiLf3diyfyJcV3',\n",
       "   'state': 'T'},\n",
       "  'VMC:GA_AnJl99FJB5tNPupduz8I4R8CCuwCpIY0': {'id': 'VMC:GA_AnJl99FJB5tNPupduz8I4R8CCuwCpIY0',\n",
       "   'location_id': 'VMC:GL_L1IS6jOwSUsOpKihGRcqxHul1IwbV-1s',\n",
       "   'state': 'T'},\n",
       "  'VMC:GA_zsJuMckKGajqHCl16sxKQJtBMjGrFHHZ': {'id': 'VMC:GA_zsJuMckKGajqHCl16sxKQJtBMjGrFHHZ',\n",
       "   'location_id': 'VMC:GL_L1IS6jOwSUsOpKihGRcqxHul1IwbV-1s',\n",
       "   'state': 'C'}},\n",
       " 'genotypes': {},\n",
       " 'haplotypes': {},\n",
       " 'identifiers': {'VMC:GS_IIB53T8CNeJJdUqzn9V_JnRtQadwWCbl': ['NC_000019.10']},\n",
       " 'locations': {'VMC:GL_heG_PQopyF0Vgi4zH6yiLf3diyfyJcV3': {'id': 'VMC:GL_heG_PQopyF0Vgi4zH6yiLf3diyfyJcV3',\n",
       "   'interval': {'end': 44908822, 'start': 44908821},\n",
       "   'sequence_id': 'VMC:GS_IIB53T8CNeJJdUqzn9V_JnRtQadwWCbl'},\n",
       "  'VMC:GL_L1IS6jOwSUsOpKihGRcqxHul1IwbV-1s': {'id': 'VMC:GL_L1IS6jOwSUsOpKihGRcqxHul1IwbV-1s',\n",
       "   'interval': {'end': 44908684, 'start': 44908683},\n",
       "   'sequence_id': 'VMC:GS_IIB53T8CNeJJdUqzn9V_JnRtQadwWCbl'}},\n",
       " 'meta': {'vmc_version': 0, 'generated_at': '2019-03-19T15:35:02.338987'}}"
      ]
     },
     "execution_count": 4,
     "metadata": {},
     "output_type": "execute_result"
    }
   ],
   "source": [
    "# computed\n",
    "bm = make_bundle(\"computed\")\n",
    "bm.as_dict()"
   ]
  },
  {
   "cell_type": "code",
   "execution_count": 5,
   "metadata": {},
   "outputs": [
    {
     "data": {
      "text/plain": [
       "{'alleles': {'2': {'id': '2', 'location_id': '1', 'state': 'C'},\n",
       "  '4': {'id': '4', 'location_id': '3', 'state': 'T'},\n",
       "  '6': {'id': '6', 'location_id': '5', 'state': 'T'},\n",
       "  '8': {'id': '8', 'location_id': '7', 'state': 'C'}},\n",
       " 'genotypes': {},\n",
       " 'haplotypes': {},\n",
       " 'identifiers': {'VMC:GS_IIB53T8CNeJJdUqzn9V_JnRtQadwWCbl': ['NC_000019.10']},\n",
       " 'locations': {'1': {'id': '1',\n",
       "   'interval': {'end': 44908822, 'start': 44908821},\n",
       "   'sequence_id': 'VMC:GS_IIB53T8CNeJJdUqzn9V_JnRtQadwWCbl'},\n",
       "  '3': {'id': '3',\n",
       "   'interval': {'end': 44908822, 'start': 44908821},\n",
       "   'sequence_id': 'VMC:GS_IIB53T8CNeJJdUqzn9V_JnRtQadwWCbl'},\n",
       "  '5': {'id': '5',\n",
       "   'interval': {'end': 44908684, 'start': 44908683},\n",
       "   'sequence_id': 'VMC:GS_IIB53T8CNeJJdUqzn9V_JnRtQadwWCbl'},\n",
       "  '7': {'id': '7',\n",
       "   'interval': {'end': 44908684, 'start': 44908683},\n",
       "   'sequence_id': 'VMC:GS_IIB53T8CNeJJdUqzn9V_JnRtQadwWCbl'}},\n",
       " 'meta': {'vmc_version': 0, 'generated_at': '2019-03-19T15:35:07.407238'}}"
      ]
     },
     "execution_count": 5,
     "metadata": {},
     "output_type": "execute_result"
    }
   ],
   "source": [
    "# computed\n",
    "bm = make_bundle(\"serial\")\n",
    "bm.as_dict()"
   ]
  },
  {
   "cell_type": "code",
   "execution_count": 6,
   "metadata": {},
   "outputs": [
    {
     "data": {
      "text/plain": [
       "{'alleles': {'ff439b06-7baf-4902-badf-bdf82c7675cf': {'id': 'ff439b06-7baf-4902-badf-bdf82c7675cf',\n",
       "   'location_id': '6aee3ecb-2374-4b32-8da1-15c248933695',\n",
       "   'state': 'C'},\n",
       "  '985fbf0e-cebd-4007-8f5e-77d3a03242c6': {'id': '985fbf0e-cebd-4007-8f5e-77d3a03242c6',\n",
       "   'location_id': 'c2f4aff4-fd86-434b-b8c5-fc51050fd48a',\n",
       "   'state': 'T'},\n",
       "  '0bfee5e7-b89a-4b0c-b082-b88a6e37b810': {'id': '0bfee5e7-b89a-4b0c-b082-b88a6e37b810',\n",
       "   'location_id': '4f9670ce-a636-4bae-bb53-e014133d5c4b',\n",
       "   'state': 'T'},\n",
       "  'e1de63b6-1ee7-4082-a3f7-071066dbd0e6': {'id': 'e1de63b6-1ee7-4082-a3f7-071066dbd0e6',\n",
       "   'location_id': '4640489d-8254-4b1a-ad34-07af36dd167c',\n",
       "   'state': 'C'}},\n",
       " 'genotypes': {},\n",
       " 'haplotypes': {},\n",
       " 'identifiers': {'VMC:GS_IIB53T8CNeJJdUqzn9V_JnRtQadwWCbl': ['NC_000019.10']},\n",
       " 'locations': {'6aee3ecb-2374-4b32-8da1-15c248933695': {'id': '6aee3ecb-2374-4b32-8da1-15c248933695',\n",
       "   'interval': {'end': 44908822, 'start': 44908821},\n",
       "   'sequence_id': 'VMC:GS_IIB53T8CNeJJdUqzn9V_JnRtQadwWCbl'},\n",
       "  'c2f4aff4-fd86-434b-b8c5-fc51050fd48a': {'id': 'c2f4aff4-fd86-434b-b8c5-fc51050fd48a',\n",
       "   'interval': {'end': 44908822, 'start': 44908821},\n",
       "   'sequence_id': 'VMC:GS_IIB53T8CNeJJdUqzn9V_JnRtQadwWCbl'},\n",
       "  '4f9670ce-a636-4bae-bb53-e014133d5c4b': {'id': '4f9670ce-a636-4bae-bb53-e014133d5c4b',\n",
       "   'interval': {'end': 44908684, 'start': 44908683},\n",
       "   'sequence_id': 'VMC:GS_IIB53T8CNeJJdUqzn9V_JnRtQadwWCbl'},\n",
       "  '4640489d-8254-4b1a-ad34-07af36dd167c': {'id': '4640489d-8254-4b1a-ad34-07af36dd167c',\n",
       "   'interval': {'end': 44908684, 'start': 44908683},\n",
       "   'sequence_id': 'VMC:GS_IIB53T8CNeJJdUqzn9V_JnRtQadwWCbl'}},\n",
       " 'meta': {'vmc_version': 0, 'generated_at': '2019-03-19T15:35:10.023502'}}"
      ]
     },
     "execution_count": 6,
     "metadata": {},
     "output_type": "execute_result"
    }
   ],
   "source": [
    "# computed\n",
    "bm = make_bundle(\"uuid\")\n",
    "bm.as_dict()"
   ]
  },
  {
   "cell_type": "code",
   "execution_count": null,
   "metadata": {},
   "outputs": [],
   "source": []
  }
 ],
 "metadata": {
  "kernelspec": {
   "display_name": "Python 3",
   "language": "python",
   "name": "python3"
  },
  "language_info": {
   "codemirror_mode": {
    "name": "ipython",
    "version": 3
   },
   "file_extension": ".py",
   "mimetype": "text/x-python",
   "name": "python",
   "nbconvert_exporter": "python",
   "pygments_lexer": "ipython3",
   "version": "3.7.2"
  }
 },
 "nbformat": 4,
 "nbformat_minor": 2
}
